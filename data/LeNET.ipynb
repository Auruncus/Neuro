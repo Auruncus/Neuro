{
 "cells": [
  {
   "cell_type": "code",
   "execution_count": 1,
   "metadata": {},
   "outputs": [
    {
     "name": "stdout",
     "output_type": "stream",
     "text": [
      "Epoch: [ 1/ 10], Step: [ 100/ 600], Loss: 0.5772\n",
      "Epoch: [ 1/ 10], Step: [ 200/ 600], Loss: 0.4076\n",
      "Epoch: [ 1/ 10], Step: [ 300/ 600], Loss: 0.3594\n",
      "Epoch: [ 1/ 10], Step: [ 400/ 600], Loss: 0.1759\n",
      "Epoch: [ 1/ 10], Step: [ 500/ 600], Loss: 0.1427\n",
      "Epoch: [ 1/ 10], Step: [ 600/ 600], Loss: 0.1284\n",
      "Epoch: [ 2/ 10], Step: [ 100/ 600], Loss: 0.1451\n",
      "Epoch: [ 2/ 10], Step: [ 200/ 600], Loss: 0.1821\n",
      "Epoch: [ 2/ 10], Step: [ 300/ 600], Loss: 0.0783\n",
      "Epoch: [ 2/ 10], Step: [ 400/ 600], Loss: 0.0624\n",
      "Epoch: [ 2/ 10], Step: [ 500/ 600], Loss: 0.1389\n",
      "Epoch: [ 2/ 10], Step: [ 600/ 600], Loss: 0.0959\n",
      "Epoch: [ 3/ 10], Step: [ 100/ 600], Loss: 0.1629\n",
      "Epoch: [ 3/ 10], Step: [ 200/ 600], Loss: 0.1715\n",
      "Epoch: [ 3/ 10], Step: [ 300/ 600], Loss: 0.0318\n",
      "Epoch: [ 3/ 10], Step: [ 400/ 600], Loss: 0.0315\n",
      "Epoch: [ 3/ 10], Step: [ 500/ 600], Loss: 0.0816\n",
      "Epoch: [ 3/ 10], Step: [ 600/ 600], Loss: 0.0750\n",
      "Epoch: [ 4/ 10], Step: [ 100/ 600], Loss: 0.0932\n",
      "Epoch: [ 4/ 10], Step: [ 200/ 600], Loss: 0.0516\n",
      "Epoch: [ 4/ 10], Step: [ 300/ 600], Loss: 0.0199\n",
      "Epoch: [ 4/ 10], Step: [ 400/ 600], Loss: 0.0381\n",
      "Epoch: [ 4/ 10], Step: [ 500/ 600], Loss: 0.0571\n",
      "Epoch: [ 4/ 10], Step: [ 600/ 600], Loss: 0.0530\n",
      "Epoch: [ 5/ 10], Step: [ 100/ 600], Loss: 0.0571\n",
      "Epoch: [ 5/ 10], Step: [ 200/ 600], Loss: 0.0746\n",
      "Epoch: [ 5/ 10], Step: [ 300/ 600], Loss: 0.0381\n",
      "Epoch: [ 5/ 10], Step: [ 400/ 600], Loss: 0.0869\n",
      "Epoch: [ 5/ 10], Step: [ 500/ 600], Loss: 0.0217\n",
      "Epoch: [ 5/ 10], Step: [ 600/ 600], Loss: 0.0709\n",
      "Epoch: [ 6/ 10], Step: [ 100/ 600], Loss: 0.0542\n",
      "Epoch: [ 6/ 10], Step: [ 200/ 600], Loss: 0.1113\n",
      "Epoch: [ 6/ 10], Step: [ 300/ 600], Loss: 0.0421\n",
      "Epoch: [ 6/ 10], Step: [ 400/ 600], Loss: 0.0237\n",
      "Epoch: [ 6/ 10], Step: [ 500/ 600], Loss: 0.0775\n",
      "Epoch: [ 6/ 10], Step: [ 600/ 600], Loss: 0.0487\n",
      "Epoch: [ 7/ 10], Step: [ 100/ 600], Loss: 0.0701\n",
      "Epoch: [ 7/ 10], Step: [ 200/ 600], Loss: 0.1102\n",
      "Epoch: [ 7/ 10], Step: [ 300/ 600], Loss: 0.0474\n",
      "Epoch: [ 7/ 10], Step: [ 400/ 600], Loss: 0.0454\n",
      "Epoch: [ 7/ 10], Step: [ 500/ 600], Loss: 0.0168\n",
      "Epoch: [ 7/ 10], Step: [ 600/ 600], Loss: 0.0659\n",
      "Epoch: [ 8/ 10], Step: [ 100/ 600], Loss: 0.0254\n",
      "Epoch: [ 8/ 10], Step: [ 200/ 600], Loss: 0.0506\n",
      "Epoch: [ 8/ 10], Step: [ 300/ 600], Loss: 0.0316\n",
      "Epoch: [ 8/ 10], Step: [ 400/ 600], Loss: 0.0217\n",
      "Epoch: [ 8/ 10], Step: [ 500/ 600], Loss: 0.0147\n",
      "Epoch: [ 8/ 10], Step: [ 600/ 600], Loss: 0.0113\n",
      "Epoch: [ 9/ 10], Step: [ 100/ 600], Loss: 0.0152\n",
      "Epoch: [ 9/ 10], Step: [ 200/ 600], Loss: 0.0852\n",
      "Epoch: [ 9/ 10], Step: [ 300/ 600], Loss: 0.0612\n",
      "Epoch: [ 9/ 10], Step: [ 400/ 600], Loss: 0.1355\n",
      "Epoch: [ 9/ 10], Step: [ 500/ 600], Loss: 0.0672\n",
      "Epoch: [ 9/ 10], Step: [ 600/ 600], Loss: 0.0229\n",
      "Epoch: [ 10/ 10], Step: [ 100/ 600], Loss: 0.0476\n",
      "Epoch: [ 10/ 10], Step: [ 200/ 600], Loss: 0.0138\n",
      "Epoch: [ 10/ 10], Step: [ 300/ 600], Loss: 0.0314\n",
      "Epoch: [ 10/ 10], Step: [ 400/ 600], Loss: 0.0286\n",
      "Epoch: [ 10/ 10], Step: [ 500/ 600], Loss: 0.1219\n",
      "Epoch: [ 10/ 10], Step: [ 600/ 600], Loss: 0.0741\n",
      "Accuracy of the model on the 10000 test images:  98 %\n"
     ]
    }
   ],
   "source": [
    "import torch \n",
    "import torch.nn as nn \n",
    "import torchvision.datasets as dsets \n",
    "import torchvision.transforms as transforms \n",
    "import torch.nn.functional as fun\n",
    "from torch.autograd import Variable \n",
    "device = torch.device(\"cuda\" if torch.cuda.is_available() else \"cpu\")\n",
    "# Hyper Parameters  \n",
    "input_size = 784\n",
    "num_classes = 10\n",
    "hidden_size = 300  \n",
    "num_epochs = 10\n",
    "batch_size = 100\n",
    "learning_rate = 0.2\n",
    "# MNIST Dataset (Images and Labels) \n",
    "train_dataset = dsets.MNIST(root ='./data', \n",
    "\t\t\t\t\t\t\ttrain = True, \n",
    "\t\t\t\t\t\t\ttransform = transforms.ToTensor(), \n",
    "\t\t\t\t\t\t\tdownload = True) \n",
    "\n",
    "test_dataset = dsets.MNIST(root ='./data', \n",
    "\t\t\t\t\t\ttrain = False, \n",
    "\t\t\t\t\t\ttransform = transforms.ToTensor()) \n",
    "\n",
    "# Dataset Loader (Input Pipline) \n",
    "train_loader = torch.utils.data.DataLoader(dataset = train_dataset, \n",
    "\t\t\t\t\t\t\t\t\t\tbatch_size = batch_size, \n",
    "\t\t\t\t\t\t\t\t\t\tshuffle = True) \n",
    "\n",
    "test_loader = torch.utils.data.DataLoader(dataset = test_dataset, \n",
    "\t\t\t\t\t\t\t\t\t\tbatch_size = batch_size, \n",
    "\t\t\t\t\t\t\t\t\t\tshuffle = False) \n",
    "\n",
    "# Model\n",
    "class LeNET(nn.Module):\n",
    "    def __init__(self):\n",
    "        super(LeNET, self).__init__() \n",
    "        self.conv1 = nn.Conv2d(1, 6, 7, 1, 0)# 1 канал(черно-белый),если картинка цветная то 3 - так как RGB; 6 - выходов или подслоев,\n",
    "        #каждый подслой имеет свои веса ;#input,output,kernel,stride,padding; выход тензоры 22x22 (28-kernel+1)\n",
    "        self.maxpool1 = nn.MaxPool2d(2) #выход тензоры 11x11 по 6 каналам\n",
    "        self.conv2 = nn.Conv2d(6, 16, 2, 1, 1)#padding=1 =>13x13    (13-2+1)=> выход 12x12 по 16 каналам\n",
    "        self.maxpool2 = nn.MaxPool2d(2)#выход 6x6 по 16 каналам => 6x6x16=576\n",
    "        self.relu = nn.ReLU() \n",
    "        self.dropout2d = nn.Dropout2d()\n",
    "        self.fc1 = nn.Linear(576, 1000)\n",
    "        self.fc2 = nn.Linear(1000, 10)\n",
    "\n",
    "    def forward(self, x): \n",
    "        out = self.relu(self.maxpool1(self.conv1(x)))\n",
    "        out = self.relu(self.maxpool2(self.dropout2d(self.conv2(out))))\n",
    "        out = out.view(-1, 576)\n",
    "        out = self.relu(self.fc1(out)) \n",
    "        out = self.fc2(out) \n",
    "        return out \n",
    "\n",
    "model = LeNET() \n",
    "\n",
    "  \n",
    "# Loss and Optimizer \n",
    "# Softmax is internally computed.  \n",
    "criterion = nn.CrossEntropyLoss() \n",
    "optimizer = torch.optim.SGD(model.parameters(), lr = learning_rate) \n",
    "  \n",
    "# Training the Model\n",
    "\n",
    "for epoch in range(num_epochs): \n",
    "    for i, (images, labels) in enumerate(train_loader): \n",
    "        # Forward + Backward + Optimize \n",
    "        optimizer.zero_grad() \n",
    "        outputs = model(images)\n",
    "        loss = criterion(outputs, labels) \n",
    "        loss.backward() \n",
    "        optimizer.step() \n",
    "  \n",
    "        if (i + 1) % 100 == 0: \n",
    "            print('Epoch: [% d/% d], Step: [% d/% d], Loss: %.4f'\n",
    "                  % (epoch + 1, num_epochs, i + 1, \n",
    "                     len(train_dataset) // batch_size, loss.item())) \n",
    "  \n",
    "#Test the Model \n",
    "correct = 0\n",
    "total = 0\n",
    "for images, labels in test_loader: \n",
    "    outputs = model(images) \n",
    "    _, predicted = torch.max(outputs.data, 1) \n",
    "    total += labels.size(0) \n",
    "    correct += (predicted == labels).sum() \n",
    "  \n",
    "print('Accuracy of the model on the 10000 test images: % d %%' % ( \n",
    "            100 * correct / total))     "
   ]
  },
  {
   "cell_type": "code",
   "execution_count": 3,
   "metadata": {},
   "outputs": [
    {
     "name": "stdout",
     "output_type": "stream",
     "text": [
      "Предсказание: tensor(8)\n",
      "Действительно: tensor(8)\n"
     ]
    },
    {
     "data": {
      "image/png": "[encoded data removed]",
      "text/plain": [
       "<Figure size 432x288 with 1 Axes>"
      ]
     },
     "metadata": {
      "needs_background": "light"
     },
     "output_type": "display_data"
    },
    {
     "name": "stdout",
     "output_type": "stream",
     "text": [
      "Предсказание: tensor(9)\n",
      "Действительно: tensor(9)\n"
     ]
    },
    {
     "data": {
      "image/png": "[encoded data removed]",
      "text/plain": [
       "<Figure size 432x288 with 1 Axes>"
      ]
     },
     "metadata": {
      "needs_background": "light"
     },
     "output_type": "display_data"
    },
    {
     "name": "stdout",
     "output_type": "stream",
     "text": [
      "Предсказание: tensor(0)\n",
      "Действительно: tensor(0)\n"
     ]
    },
    {
     "data": {
      "image/png": "[encoded data removed]",
      "text/plain": [
       "<Figure size 432x288 with 1 Axes>"
      ]
     },
     "metadata": {
      "needs_background": "light"
     },
     "output_type": "display_data"
    },
    {
     "name": "stdout",
     "output_type": "stream",
     "text": [
      "Предсказание: tensor(1)\n",
      "Действительно: tensor(1)\n"
     ]
    },
    {
     "data": {
      "image/png": "[encoded data removed]",
      "text/plain": [
       "<Figure size 432x288 with 1 Axes>"
      ]
     },
     "metadata": {
      "needs_background": "light"
     },
     "output_type": "display_data"
    },
    {
     "name": "stdout",
     "output_type": "stream",
     "text": [
      "Предсказание: tensor(2)\n",
      "Действительно: tensor(2)\n"
     ]
    },
    {
     "data": {
      "image/png": "[encoded data removed]",
      "text/plain": [
       "<Figure size 432x288 with 1 Axes>"
      ]
     },
     "metadata": {
      "needs_background": "light"
     },
     "output_type": "display_data"
    },
    {
     "name": "stdout",
     "output_type": "stream",
     "text": [
      "Предсказание: tensor(3)\n",
      "Действительно: tensor(3)\n"
     ]
    },
    {
     "data": {
      "image/png": "[encoded data removed]",
      "text/plain": [
       "<Figure size 432x288 with 1 Axes>"
      ]
     },
     "metadata": {
      "needs_background": "light"
     },
     "output_type": "display_data"
    },
    {
     "name": "stdout",
     "output_type": "stream",
     "text": [
      "Предсказание: tensor(4)\n",
      "Действительно: tensor(4)\n"
     ]
    },
    {
     "data": {
      "image/png": "[encoded data removed]",
      "text/plain": [
       "<Figure size 432x288 with 1 Axes>"
      ]
     },
     "metadata": {
      "needs_background": "light"
     },
     "output_type": "display_data"
    },
    {
     "name": "stdout",
     "output_type": "stream",
     "text": [
      "Предсказание: tensor(5)\n",
      "Действительно: tensor(5)\n"
     ]
    },
    {
     "data": {
      "image/png": "[encoded data removed]",
      "text/plain": [
       "<Figure size 432x288 with 1 Axes>"
      ]
     },
     "metadata": {
      "needs_background": "light"
     },
     "output_type": "display_data"
    },
    {
     "name": "stdout",
     "output_type": "stream",
     "text": [
      "Предсказание: tensor(6)\n",
      "Действительно: tensor(6)\n"
     ]
    },
    {
     "data": {
      "image/png": "[encoded data removed]",
      "text/plain": [
       "<Figure size 432x288 with 1 Axes>"
      ]
     },
     "metadata": {
      "needs_background": "light"
     },
     "output_type": "display_data"
    },
    {
     "name": "stdout",
     "output_type": "stream",
     "text": [
      "Предсказание: tensor(7)\n",
      "Действительно: tensor(7)\n"
     ]
    },
    {
     "data": {
      "image/png": "[encoded data removed]",
      "text/plain": [
       "<Figure size 432x288 with 1 Axes>"
      ]
     },
     "metadata": {
      "needs_background": "light"
     },
     "output_type": "display_data"
    }
   ],
   "source": [
    "from matplotlib import pyplot as plt \n",
    "import numpy as np \n",
    "for k in range(0,10):\n",
    "    first_image = images[k] \n",
    "    first_image = np.array(first_image, dtype='float') \n",
    "    pixels = first_image.reshape((28, 28)) \n",
    "    plt.imshow(pixels, cmap='gray') \n",
    "    print(\"Предсказание:\",predicted[k])\n",
    "    print(\"Действительно:\",labels[k])\n",
    "    plt.show() "
   ]
  },
  {
   "cell_type": "code",
   "execution_count": null,
   "metadata": {},
   "outputs": [],
   "source": []
  }
 ],
 "metadata": {
  "kernelspec": {
   "display_name": "Python 3",
   "language": "python",
   "name": "python3"
  },
  "language_info": {
   "codemirror_mode": {
    "name": "ipython",
    "version": 3
   },
   "file_extension": ".py",
   "mimetype": "text/x-python",
   "name": "python",
   "nbconvert_exporter": "python",
   "pygments_lexer": "ipython3",
   "version": "3.7.0"
  }
 },
 "nbformat": 4,
 "nbformat_minor": 2
}
