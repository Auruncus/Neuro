{
  "nbformat": 4,
  "nbformat_minor": 0,
  "metadata": {
    "colab": {
      "name": "SVHN Multi-Digit Recognition.ipynb",
      "version": "0.3.2",
      "provenance": [],
      "collapsed_sections": []
    },
    "kernelspec": {
      "name": "python3",
      "display_name": "Python 3"
    },
    "accelerator": "GPU"
  },
  "cells": [
    {
      "metadata": {
        "id": "Vg-YK-mpobfB",
        "colab_type": "code",
        "colab": {}
      },
      "cell_type": "code",
      "source": [
        "device = torch.device(\"cuda:0\")"
      ],
      "execution_count": 0,
      "outputs": []
    },
    {
      "metadata": {
        "id": "rUVS3VtNop60",
        "colab_type": "code",
        "outputId": "f3d310da-3279-4888-ff77-66a6d49b46c1",
        "colab": {
          "base_uri": "https://localhost:8080/",
          "height": 51
        }
      },
      "cell_type": "code",
      "source": [
        "# http://pytorch.org/\n",
        "from os.path import exists\n",
        "from wheel.pep425tags import get_abbr_impl, get_impl_ver, get_abi_tag\n",
        "platform = '{}{}-{}'.format(get_abbr_impl(), get_impl_ver(), get_abi_tag())\n",
        "cuda_output = !ldconfig -p|grep cudart.so|sed -e 's/.*\\.\\([0-9]*\\)\\.\\([0-9]*\\)$/cu\\1\\2/'\n",
        "accelerator = cuda_output[0] if exists('/dev/nvidia0') else 'cpu'\n",
        "\n",
        "!pip install -q http://download.pytorch.org/whl/{accelerator}/torch-0.4.1-{platform}-linux_x86_64.whl torchvision\n",
        "import torch\n",
        "import time\n",
        "start_time = time.time()\n",
        "import torch.nn as nn \n",
        "import torchvision.datasets as dsets \n",
        "import torchvision.transforms as transforms \n",
        "import torch.nn.functional as fun\n",
        "from torch.autograd import Variable \n",
        "device = torch.device(\"cuda:0\")\n",
        "# Hyper Parameters  \n",
        "input_size = 1024\n",
        "num_classes = 10\n",
        "hidden_size = 300  \n",
        "num_epochs = 10\n",
        "batch_size = 100\n",
        "learning_rate = 0.2\n",
        "# MNIST Dataset (Images and Labels) \n",
        "train_dataset = dsets.SVHN(root ='./data', \n",
        "\t\t\t\t\t\t\ttransform = transforms.ToTensor(), \n",
        "\t\t\t\t\t\t\tdownload = True) \n",
        "\n",
        "test_dataset = dsets.SVHN(root ='./data', \n",
        "\t\t\t\t\t\tdownload = True, \n",
        "\t\t\t\t\t\ttransform = transforms.ToTensor()) \n",
        "train_loader = torch.utils.data.DataLoader(dataset = train_dataset, \n",
        "\t\t\t\t\t\t\t\t\t\tbatch_size = batch_size, \n",
        "\t\t\t\t\t\t\t\t\t\tshuffle = True) \n",
        "\n",
        "test_loader = torch.utils.data.DataLoader(dataset = test_dataset, \n",
        "\t\t\t\t\t\t\t\t\t\tbatch_size = batch_size, \n",
        "\t\t\t\t\t\t\t\t\t\tshuffle = False) \n",
        "class SVHN(nn.Module):\n",
        "    def __init__(self):\n",
        "        super(SVHN, self).__init__() \n",
        "        self.conv1 = nn.Conv2d(3, 64, 4, 1, 0)#  картинка цветная => 3 - так как RGB; 64 - выходов или подслоев,\n",
        "        #каждый подслой имеет свои веса ;#input,output,kernel,stride,padding; выход тензоры 29x29 (28-kernel+1)\n",
        "        self.conv2 = nn.Conv2d(64, 128, 4, 1, 1)#padding=1 =>31x31    (31-4+1)=> выход 28x28 по 128 каналам\n",
        "        self.maxpool2 = nn.MaxPool2d(2)#выход 14x14 по 128 каналам => 14x14x128=25088\n",
        "        self.relu = nn.ReLU() \n",
        "        self.dropout2d = nn.Dropout2d()\n",
        "        self.fc1 = nn.Linear(25088, 1024)\n",
        "        self.fc2 = nn.Linear(1024, 10)\n",
        "\n",
        "    def forward(self, x): \n",
        "        out = self.relu(self.conv1(x))\n",
        "        #print(out.size())\n",
        "        out = self.relu(self.maxpool2(self.dropout2d(self.conv2(out))))\n",
        "        #print(out.size())\n",
        "        out = out.view(-1, 25088)\n",
        "        out = self.relu(self.fc1(out)) \n",
        "        out = self.fc2(out) \n",
        "        return out \n",
        "\n",
        "model = SVHN() \n",
        "model.to(device)\n",
        "criterion = nn.CrossEntropyLoss() \n",
        "optimizer = torch.optim.SGD(model.parameters(), lr = learning_rate) "
      ],
      "execution_count": 0,
      "outputs": [
        {
          "output_type": "stream",
          "text": [
            "Using downloaded and verified file: ./data/train_32x32.mat\n",
            "Using downloaded and verified file: ./data/train_32x32.mat\n"
          ],
          "name": "stdout"
        }
      ]
    },
    {
      "metadata": {
        "id": "Wz6OTVtHLpyq",
        "colab_type": "code",
        "outputId": "3eb389d7-fd8f-42e5-e57e-7bfcf6026f57",
        "colab": {
          "base_uri": "https://localhost:8080/",
          "height": 1241
        }
      },
      "cell_type": "code",
      "source": [
        "# Training the Model\n",
        "\n",
        "for epoch in range(num_epochs): \n",
        "    for i, (images, labels) in enumerate(train_loader): \n",
        "        images = images.to(device)\n",
        "        labels = labels.to(device)\n",
        "        # Forward + Backward + Optimize \n",
        "        optimizer.zero_grad() \n",
        "        outputs = model(images)\n",
        "        outputs=outputs.to(device)\n",
        "        loss = criterion(outputs, labels) \n",
        "        loss.backward() \n",
        "        optimizer.step() \n",
        "  \n",
        "        if (i + 1) % 100 == 0: \n",
        "            print('Epoch: [% d/% d], Step: [% d/% d], Loss: %.4f'\n",
        "                  % (epoch + 1, num_epochs, i + 1, \n",
        "                     len(train_dataset) // batch_size, loss.item()))     \n",
        "#Test the Model \n",
        "correct = 0\n",
        "total = 0\n",
        "for images, labels in test_loader:\n",
        "    images = images.to(device)\n",
        "    labels = labels.to(device)\n",
        "    outputs = model(images) \n",
        "    _, predicted = torch.max(outputs.data, 1) \n",
        "    total += labels.size(0) \n",
        "    correct += (predicted == labels).sum() \n",
        "  \n",
        "print('Accuracy of the model on the 73257 test images: % d %%' % ( \n",
        "            100 * correct / total))\n",
        "print(\"--- %s seconds ---\" % (time.time() - start_time))"
      ],
      "execution_count": 0,
      "outputs": [
        {
          "output_type": "stream",
          "text": [
            "Epoch: [ 1/ 10], Step: [ 100/ 732], Loss: 2.3393\n",
            "Epoch: [ 1/ 10], Step: [ 200/ 732], Loss: 2.1713\n",
            "Epoch: [ 1/ 10], Step: [ 300/ 732], Loss: 1.9459\n",
            "Epoch: [ 1/ 10], Step: [ 400/ 732], Loss: 1.1452\n",
            "Epoch: [ 1/ 10], Step: [ 500/ 732], Loss: 0.9880\n",
            "Epoch: [ 1/ 10], Step: [ 600/ 732], Loss: 0.7277\n",
            "Epoch: [ 1/ 10], Step: [ 700/ 732], Loss: 0.7026\n",
            "Epoch: [ 2/ 10], Step: [ 100/ 732], Loss: 0.5115\n",
            "Epoch: [ 2/ 10], Step: [ 200/ 732], Loss: 0.5886\n",
            "Epoch: [ 2/ 10], Step: [ 300/ 732], Loss: 0.3590\n",
            "Epoch: [ 2/ 10], Step: [ 400/ 732], Loss: 0.3973\n",
            "Epoch: [ 2/ 10], Step: [ 500/ 732], Loss: 0.6908\n",
            "Epoch: [ 2/ 10], Step: [ 600/ 732], Loss: 0.4918\n",
            "Epoch: [ 2/ 10], Step: [ 700/ 732], Loss: 0.4199\n",
            "Epoch: [ 3/ 10], Step: [ 100/ 732], Loss: 0.3087\n",
            "Epoch: [ 3/ 10], Step: [ 200/ 732], Loss: 0.2841\n",
            "Epoch: [ 3/ 10], Step: [ 300/ 732], Loss: 0.3076\n",
            "Epoch: [ 3/ 10], Step: [ 400/ 732], Loss: 0.4987\n",
            "Epoch: [ 3/ 10], Step: [ 500/ 732], Loss: 0.2838\n",
            "Epoch: [ 3/ 10], Step: [ 600/ 732], Loss: 0.3395\n",
            "Epoch: [ 3/ 10], Step: [ 700/ 732], Loss: 0.2679\n",
            "Epoch: [ 4/ 10], Step: [ 100/ 732], Loss: 0.4038\n",
            "Epoch: [ 4/ 10], Step: [ 200/ 732], Loss: 0.2365\n",
            "Epoch: [ 4/ 10], Step: [ 300/ 732], Loss: 0.3548\n",
            "Epoch: [ 4/ 10], Step: [ 400/ 732], Loss: 0.2985\n",
            "Epoch: [ 4/ 10], Step: [ 500/ 732], Loss: 0.1625\n",
            "Epoch: [ 4/ 10], Step: [ 600/ 732], Loss: 0.1055\n",
            "Epoch: [ 4/ 10], Step: [ 700/ 732], Loss: 0.3359\n",
            "Epoch: [ 5/ 10], Step: [ 100/ 732], Loss: 0.1609\n",
            "Epoch: [ 5/ 10], Step: [ 200/ 732], Loss: 0.2493\n",
            "Epoch: [ 5/ 10], Step: [ 300/ 732], Loss: 0.2406\n",
            "Epoch: [ 5/ 10], Step: [ 400/ 732], Loss: 0.1862\n",
            "Epoch: [ 5/ 10], Step: [ 500/ 732], Loss: 0.3694\n",
            "Epoch: [ 5/ 10], Step: [ 600/ 732], Loss: 0.1860\n",
            "Epoch: [ 5/ 10], Step: [ 700/ 732], Loss: 0.2257\n",
            "Epoch: [ 6/ 10], Step: [ 100/ 732], Loss: 0.1688\n",
            "Epoch: [ 6/ 10], Step: [ 200/ 732], Loss: 0.2633\n",
            "Epoch: [ 6/ 10], Step: [ 300/ 732], Loss: 0.2707\n",
            "Epoch: [ 6/ 10], Step: [ 400/ 732], Loss: 0.1799\n",
            "Epoch: [ 6/ 10], Step: [ 500/ 732], Loss: 0.2090\n",
            "Epoch: [ 6/ 10], Step: [ 600/ 732], Loss: 0.4352\n",
            "Epoch: [ 6/ 10], Step: [ 700/ 732], Loss: 0.1161\n",
            "Epoch: [ 7/ 10], Step: [ 100/ 732], Loss: 0.1777\n",
            "Epoch: [ 7/ 10], Step: [ 200/ 732], Loss: 0.1167\n",
            "Epoch: [ 7/ 10], Step: [ 300/ 732], Loss: 0.2472\n",
            "Epoch: [ 7/ 10], Step: [ 400/ 732], Loss: 0.2548\n",
            "Epoch: [ 7/ 10], Step: [ 500/ 732], Loss: 0.2191\n",
            "Epoch: [ 7/ 10], Step: [ 600/ 732], Loss: 0.2659\n",
            "Epoch: [ 7/ 10], Step: [ 700/ 732], Loss: 0.1913\n",
            "Epoch: [ 8/ 10], Step: [ 100/ 732], Loss: 0.1654\n",
            "Epoch: [ 8/ 10], Step: [ 200/ 732], Loss: 0.0922\n",
            "Epoch: [ 8/ 10], Step: [ 300/ 732], Loss: 0.0869\n",
            "Epoch: [ 8/ 10], Step: [ 400/ 732], Loss: 0.1691\n",
            "Epoch: [ 8/ 10], Step: [ 500/ 732], Loss: 0.1324\n",
            "Epoch: [ 8/ 10], Step: [ 600/ 732], Loss: 0.1074\n",
            "Epoch: [ 8/ 10], Step: [ 700/ 732], Loss: 0.0791\n",
            "Epoch: [ 9/ 10], Step: [ 100/ 732], Loss: 0.0663\n",
            "Epoch: [ 9/ 10], Step: [ 200/ 732], Loss: 0.1274\n",
            "Epoch: [ 9/ 10], Step: [ 300/ 732], Loss: 0.1160\n",
            "Epoch: [ 9/ 10], Step: [ 400/ 732], Loss: 0.0776\n",
            "Epoch: [ 9/ 10], Step: [ 500/ 732], Loss: 0.2509\n",
            "Epoch: [ 9/ 10], Step: [ 600/ 732], Loss: 0.3098\n",
            "Epoch: [ 9/ 10], Step: [ 700/ 732], Loss: 0.0642\n",
            "Epoch: [ 10/ 10], Step: [ 100/ 732], Loss: 0.1571\n",
            "Epoch: [ 10/ 10], Step: [ 200/ 732], Loss: 0.0961\n",
            "Epoch: [ 10/ 10], Step: [ 300/ 732], Loss: 0.1075\n",
            "Epoch: [ 10/ 10], Step: [ 400/ 732], Loss: 0.0455\n",
            "Epoch: [ 10/ 10], Step: [ 500/ 732], Loss: 0.1003\n",
            "Epoch: [ 10/ 10], Step: [ 600/ 732], Loss: 0.0658\n",
            "Epoch: [ 10/ 10], Step: [ 700/ 732], Loss: 0.0763\n",
            "Accuracy of the model on the 10000 test images:  97 %\n",
            "--- 323.164297580719 seconds ---\n"
          ],
          "name": "stdout"
        }
      ]
    },
    {
      "metadata": {
        "id": "MTDdSfFrpTK8",
        "colab_type": "code",
        "outputId": "705e48e2-6750-4021-d53a-efd21601aa1d",
        "colab": {
          "base_uri": "https://localhost:8080/",
          "height": 236
        }
      },
      "cell_type": "code",
      "source": [
        "from matplotlib import pyplot as plt \n",
        "import numpy as np\n",
        "import scipy.misc \n",
        "from PIL import Image\n",
        "%matplotlib inline\n",
        "print(images[1].shape)\n",
        "fig = plt.figure()\n",
        "plt.subplot(121)\n",
        "plt.imshow(images[19].reshape(32,32,3))\n",
        "\n",
        "#plt.imshow(toimage(images[4]))\n",
        "plt.show()\n",
        "print(\"Действительно:\",labels[19])"
      ],
      "execution_count": 0,
      "outputs": [
        {
          "output_type": "stream",
          "text": [
            "torch.Size([3, 32, 32])\n"
          ],
          "name": "stdout"
        },
        {
          "output_type": "display_data",
          "data": {
            "image/png": "[encoded data removed]",
            "text/plain": [
              "<matplotlib.figure.Figure at 0x7f4e3adf0400>"
            ]
          },
          "metadata": {
            "tags": []
          }
        },
        {
          "output_type": "stream",
          "text": [
            "Действительно: tensor(2, device='cuda:0')\n"
          ],
          "name": "stdout"
        }
      ]
    },
    {
      "metadata": {
        "id": "BbAMf-saWtZa",
        "colab_type": "code",
        "colab": {}
      },
      "cell_type": "code",
      "source": [
        "from matplotlib import pyplot as plt \n",
        "import numpy as np \n",
        "for k in range(0,10):\n",
        "    first_image = images[k] \n",
        "    first_image = np.array(first_image, dtype='float') \n",
        "    pixels = first_image.reshape((-1,3,32, 32)) \n",
        "    #plt.imshow(pixels, cmap='gray') \n",
        "    print(\"Предсказание:\",predicted[k])\n",
        "    print(\"Действительно:\",labels[k])\n",
        "    plt.show()"
      ],
      "execution_count": 0,
      "outputs": []
    },
    {
      "metadata": {
        "id": "9d1JbCjmX2e-",
        "colab_type": "code",
        "colab": {}
      },
      "cell_type": "code",
      "source": [
        "import matplotlib.pyplot as plt\n",
        "plt.imshow(images[2].reshape(3,32,32))\n",
        "plt.show()"
      ],
      "execution_count": 0,
      "outputs": []
    },
    {
      "metadata": {
        "id": "q-uLZDNTYGjW",
        "colab_type": "code",
        "outputId": "1f1ea806-5ff4-4e49-eb32-64d8e4cab1fc",
        "colab": {
          "base_uri": "https://localhost:8080/",
          "height": 266
        }
      },
      "cell_type": "code",
      "source": [
        "# output is of shape (N, 3, 32, 32)\n",
        "images = images.reshape((-1,3,32,32))\n",
        "# output is of shape (N, 32, 32, 3)\n",
        "images = images.transpose(0,3)\n",
        "# put data back into a design matrix (N, 3072)\n",
        "images = images.reshape(-1, 3072)\n",
        "import matplotlib.pyplot as plt\n",
        "plt.imshow(images[10].reshape(32,32,3))\n",
        "plt.show()"
      ],
      "execution_count": 0,
      "outputs": [
        {
          "output_type": "display_data",
          "data": {
            "image/png": "[encoded data removed]",
            "text/plain": [
              "<matplotlib.figure.Figure at 0x7f1cc6d3d4a8>"
            ]
          },
          "metadata": {
            "tags": []
          }
        }
      ]
    },
    {
      "metadata": {
        "id": "r0fW2ibeZWSI",
        "colab_type": "code",
        "colab": {}
      },
      "cell_type": "code",
      "source": [
        "import matplotlib.pyplot as plt\n",
        "%matplotlib inline\n",
        "from scipy.misc import imshow\n",
        "images = images.reshape((-1,3,32,32))\n",
        "images = images.transpose(0,2,3,1)"
      ],
      "execution_count": 0,
      "outputs": []
    },
    {
      "metadata": {
        "id": "M5SSSMlc3C-6",
        "colab_type": "code",
        "outputId": "e5b2e389-984e-4cc3-b0cc-a5199e0a99f9",
        "colab": {
          "base_uri": "https://localhost:8080/",
          "height": 34
        }
      },
      "cell_type": "code",
      "source": [
        "len(train_dataset)"
      ],
      "execution_count": 0,
      "outputs": [
        {
          "output_type": "execute_result",
          "data": {
            "text/plain": [
              "73257"
            ]
          },
          "metadata": {
            "tags": []
          },
          "execution_count": 41
        }
      ]
    }
  ]
}